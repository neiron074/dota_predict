{
 "cells": [
  {
   "cell_type": "code",
   "execution_count": 224,
   "metadata": {},
   "outputs": [],
   "source": [
    "import pandas as pd\n",
    "import numpy as np\n",
    "import json\n",
    "import warnings\n",
    "warnings.filterwarnings('ignore')\n",
    "import requests\n",
    "from input_features_for_predict import input_app_info\n",
    "\n",
    "from sklearn.ensemble import RandomForestClassifier\n",
    "from sklearn.preprocessing import MinMaxScaler"
   ]
  },
  {
   "cell_type": "code",
   "execution_count": 260,
   "metadata": {
    "collapsed": true
   },
   "outputs": [],
   "source": [
    "def get_train_valid(train, predict):\n",
    "    \n",
    "    \n",
    "    train.drop(['r_five_players_id', 'd_five_players_id'], 1, inplace=True)\n",
    "    train.drop('r_org', 1, inplace=True)\n",
    "    train.drop('d_org', 1, inplace=True)\n",
    "    train.drop('duration', 1, inplace=True)\n",
    "    \n",
    "\n",
    "    predict.drop(['r_five_players_id', 'd_five_players_id'], 1, inplace=True)\n",
    "    predict.drop('r_org', 1, inplace=True)\n",
    "    predict.drop('d_org', 1, inplace=True)\n",
    "    \n",
    "    \n",
    "    columns = []\n",
    "    columns.extend([f'r_{i}_player_id' for i in range(1, 6)])\n",
    "    columns.extend([f'd_{i}_player_id' for i in range(1, 6)])\n",
    "    train.drop(columns, 1, inplace=True)\n",
    "    predict.drop(columns, 1, inplace=True)\n",
    "    \n",
    "    heroes_unique_values = sorted(list(set(list(train[[f'r_{i}' for i in range(1, 6)]].values.ravel()) + list(train[[f'd_{i}' for i in range(1, 6)]].values.ravel()))))\n",
    "    dummy_heroes_column_names = [f'hero_{i}' for i in heroes_unique_values]\n",
    "    dummy_heroes_shape = (train.shape[0], len(dummy_heroes_column_names))\n",
    "    dummy_heroes = pd.DataFrame(np.zeros(dummy_heroes_shape), columns=dummy_heroes_column_names).astype(\"int8\")\n",
    "\n",
    "    for feature in [f'r_{i}' for i in range(1, 6)]:\n",
    "        encoded_feature = pd.get_dummies(train[feature], prefix=\"hero\")\n",
    "        dummy_heroes[encoded_feature.columns] += encoded_feature\n",
    "\n",
    "    for feature in [f'd_{i}' for i in range(1, 6)]:\n",
    "        encoded_feature = pd.get_dummies(train[feature], prefix=\"hero\")\n",
    "        dummy_heroes[encoded_feature.columns] -= encoded_feature\n",
    "    train = pd.concat([train, dummy_heroes], axis=1)\n",
    "    train.drop([f'r_{i}' for i in range(1, 6)], 1, inplace=True)\n",
    "    train.drop([f'd_{i}' for i in range(1, 6)], 1, inplace=True)\n",
    "    heroes_columns = encoded_feature.columns\n",
    "\n",
    "    dummy_heroes_shape = (predict.shape[0], len(dummy_heroes_column_names))\n",
    "    dummy_heroes = pd.DataFrame(np.zeros(dummy_heroes_shape), columns=dummy_heroes_column_names).astype(\"int8\")\n",
    "    for feature in [f'r_{i}' for i in range(1, 6)]:\n",
    "        encoded_feature = pd.get_dummies(predict[feature], prefix=\"hero\")\n",
    "        dummy_heroes[encoded_feature.columns] += encoded_feature\n",
    "\n",
    "    for feature in [f'd_{i}' for i in range(1, 6)]:\n",
    "        encoded_feature = pd.get_dummies(predict[feature], prefix=\"hero\")\n",
    "        dummy_heroes[encoded_feature.columns] -= encoded_feature\n",
    "    predict = pd.concat([predict, dummy_heroes], axis=1)\n",
    "    predict.drop([f'r_{i}' for i in range(1, 6)], 1, inplace=True)\n",
    "    predict.drop([f'd_{i}' for i in range(1, 6)], 1, inplace=True)\n",
    "    \n",
    "    train['r_win'] = train['r_win'].astype('int8')\n",
    "    \n",
    "    winrate_columns = [col for col in train.columns.values if 'winrate' in col.split('_')]\n",
    "    columns_to_not_scale = list(heroes_columns.values) + winrate_columns + ['r_win']\n",
    "    columns_to_scale = list(set(train.columns) - set(columns_to_not_scale))\n",
    "    \n",
    "    scaler = MinMaxScaler()\n",
    "    scaled_columns_train = scaler.fit_transform(train[columns_to_scale])\n",
    "    scaled_columns_predict = scaler.transform(predict[columns_to_scale])\n",
    "    for i, col in enumerate(columns_to_scale):\n",
    "        train[col] = scaled_columns_train[:, i]\n",
    "        predict[col] = scaled_columns_predict[:, i]\n",
    "        \n",
    "        \n",
    "    x_train, y_train = train.drop('r_win', 1), train['r_win'].values\n",
    "    \n",
    "    return x_train, y_train, predict"
   ]
  },
  {
   "cell_type": "code",
   "execution_count": 190,
   "metadata": {},
   "outputs": [],
   "source": [
    "live_games = requests.get('https://datdota.com/api/livegames').json()['data']['matches']"
   ]
  },
  {
   "cell_type": "code",
   "execution_count": 192,
   "metadata": {
    "collapsed": true
   },
   "outputs": [],
   "source": [
    "match = requests.get(f'https://datdota.com/api/livegames/{6457276195}?').json()['data']"
   ]
  },
  {
   "cell_type": "code",
   "execution_count": 64,
   "metadata": {},
   "outputs": [],
   "source": [
    "match_players_info = []\n",
    "game = {}\n",
    "game['r_org'] = match['dire_team']['team_id']\n",
    "game['d_org'] = match['radiant_team']['team_id']\n",
    "\n",
    "accounts_id = {}\n",
    "i = 0\n",
    "for player in match['players']:\n",
    "    if player['team'] in [0, 1]:\n",
    "        i += 1\n",
    "        game[f'player_id_{i}'] = player['account_id']\n",
    "        game[f'player_name_{i}'] = player['name']\n",
    "        game[f'player_hero_{i}'] = player['hero_id']\n",
    "    \n",
    "    \n",
    "match_players_info.append(game)\n",
    "match_players_info = pd.DataFrame(match_players_info, columns=list(game.keys()))"
   ]
  },
  {
   "cell_type": "code",
   "execution_count": 235,
   "metadata": {},
   "outputs": [],
   "source": [
    "data = pd.DataFrame()\n",
    "for col in ['r_org', 'd_org','r_1', 'r_1_player_id', 'd_1',\n",
    "       'd_1_player_id', 'd_2', 'd_2_player_id', 'r_2', 'r_2_player_id', 'd_3',\n",
    "       'd_3_player_id', 'r_3', 'r_3_player_id', 'r_4', 'r_4_player_id', 'd_4',\n",
    "       'd_4_player_id', 'r_5', 'r_5_player_id', 'd_5', 'd_5_player_id']:\n",
    "    data.loc[0, col] = 0"
   ]
  },
  {
   "cell_type": "code",
   "execution_count": 236,
   "metadata": {},
   "outputs": [],
   "source": [
    "data['r_org'] = 2586976\n",
    "data['d_org'] = 8572181\n",
    "\n",
    "data['r_1'] = 106\n",
    "data['r_1_player_id'] = 93618577\n",
    "\n",
    "data['d_1'] = 121\n",
    "data['d_1_player_id'] = 76904792\n",
    "\n",
    "data['d_2'] = 107\n",
    "data['d_2_player_id'] = 86700461\n",
    "\n",
    "data['r_2'] = 90\n",
    "data['r_2_player_id'] = 401792574\n",
    "\n",
    "data['d_3'] = 88\n",
    "data['d_3_player_id'] = 152859296\n",
    "\n",
    "data['r_3'] = 27\n",
    "data['r_3_player_id'] = 117483894\n",
    "\n",
    "data['r_4'] = 95\n",
    "data['r_4_player_id'] = 167976729\n",
    "\n",
    "data['d_4'] = 55\n",
    "data['d_4_player_id'] = 91369376\n",
    "\n",
    "data['r_5'] = 98\n",
    "data['r_5_player_id'] = 183719386\n",
    "\n",
    "data['d_5'] = 94\n",
    "data['d_5_player_id'] = 181716137"
   ]
  },
  {
   "cell_type": "code",
   "execution_count": 244,
   "metadata": {
    "scrolled": true
   },
   "outputs": [],
   "source": [
    "result = data.copy()\n",
    "game_with_features = input_app_info(result)"
   ]
  },
  {
   "cell_type": "code",
   "execution_count": 261,
   "metadata": {
    "scrolled": true
   },
   "outputs": [],
   "source": [
    "train = pd.read_csv('train.csv')\n",
    "predict = game_with_features.copy()\n",
    "x_train, y_train, x_valid = get_train_valid(train, predict)"
   ]
  },
  {
   "cell_type": "code",
   "execution_count": 259,
   "metadata": {},
   "outputs": [
    {
     "name": "stdout",
     "output_type": "stream",
     "text": [
      "radiant win False\n"
     ]
    }
   ],
   "source": [
    "forest = RandomForestClassifier(n_estimators=400, n_jobs=-1, random_state=17, max_depth=8, max_features='sqrt')\n",
    "forest.fit(x_train, y_train)\n",
    "result = forest.predict(x_valid).astype('bool')[0]\n",
    "print(f'radiant win --> {result}')"
   ]
  },
  {
   "cell_type": "code",
   "execution_count": null,
   "metadata": {
    "collapsed": true
   },
   "outputs": [],
   "source": []
  },
  {
   "cell_type": "code",
   "execution_count": null,
   "metadata": {
    "collapsed": true
   },
   "outputs": [],
   "source": []
  },
  {
   "cell_type": "code",
   "execution_count": null,
   "metadata": {
    "collapsed": true
   },
   "outputs": [],
   "source": []
  },
  {
   "cell_type": "code",
   "execution_count": null,
   "metadata": {
    "collapsed": true
   },
   "outputs": [],
   "source": []
  },
  {
   "cell_type": "code",
   "execution_count": null,
   "metadata": {
    "collapsed": true
   },
   "outputs": [],
   "source": []
  },
  {
   "cell_type": "code",
   "execution_count": null,
   "metadata": {
    "collapsed": true
   },
   "outputs": [],
   "source": []
  },
  {
   "cell_type": "code",
   "execution_count": null,
   "metadata": {
    "collapsed": true
   },
   "outputs": [],
   "source": []
  },
  {
   "cell_type": "code",
   "execution_count": null,
   "metadata": {
    "collapsed": true
   },
   "outputs": [],
   "source": []
  },
  {
   "cell_type": "code",
   "execution_count": null,
   "metadata": {
    "collapsed": true
   },
   "outputs": [],
   "source": []
  },
  {
   "cell_type": "code",
   "execution_count": null,
   "metadata": {
    "collapsed": true
   },
   "outputs": [],
   "source": []
  },
  {
   "cell_type": "code",
   "execution_count": null,
   "metadata": {
    "collapsed": true
   },
   "outputs": [],
   "source": []
  },
  {
   "cell_type": "code",
   "execution_count": null,
   "metadata": {
    "collapsed": true
   },
   "outputs": [],
   "source": []
  },
  {
   "cell_type": "code",
   "execution_count": null,
   "metadata": {
    "collapsed": true
   },
   "outputs": [],
   "source": []
  },
  {
   "cell_type": "code",
   "execution_count": null,
   "metadata": {
    "collapsed": true
   },
   "outputs": [],
   "source": []
  },
  {
   "cell_type": "code",
   "execution_count": null,
   "metadata": {
    "collapsed": true
   },
   "outputs": [],
   "source": []
  },
  {
   "cell_type": "code",
   "execution_count": null,
   "metadata": {
    "collapsed": true
   },
   "outputs": [],
   "source": []
  },
  {
   "cell_type": "code",
   "execution_count": null,
   "metadata": {
    "collapsed": true
   },
   "outputs": [],
   "source": []
  },
  {
   "cell_type": "code",
   "execution_count": null,
   "metadata": {
    "collapsed": true
   },
   "outputs": [],
   "source": []
  },
  {
   "cell_type": "code",
   "execution_count": null,
   "metadata": {
    "collapsed": true
   },
   "outputs": [],
   "source": []
  },
  {
   "cell_type": "code",
   "execution_count": null,
   "metadata": {
    "collapsed": true
   },
   "outputs": [],
   "source": []
  },
  {
   "cell_type": "code",
   "execution_count": null,
   "metadata": {
    "collapsed": true
   },
   "outputs": [],
   "source": []
  },
  {
   "cell_type": "code",
   "execution_count": null,
   "metadata": {
    "collapsed": true
   },
   "outputs": [],
   "source": []
  },
  {
   "cell_type": "code",
   "execution_count": null,
   "metadata": {
    "collapsed": true
   },
   "outputs": [],
   "source": []
  },
  {
   "cell_type": "code",
   "execution_count": null,
   "metadata": {
    "collapsed": true
   },
   "outputs": [],
   "source": []
  },
  {
   "cell_type": "code",
   "execution_count": null,
   "metadata": {
    "collapsed": true
   },
   "outputs": [],
   "source": []
  }
 ],
 "metadata": {
  "kernelspec": {
   "display_name": "Python 3",
   "language": "python",
   "name": "python3"
  },
  "language_info": {
   "codemirror_mode": {
    "name": "ipython",
    "version": 3
   },
   "file_extension": ".py",
   "mimetype": "text/x-python",
   "name": "python",
   "nbconvert_exporter": "python",
   "pygments_lexer": "ipython3",
   "version": "3.6.1"
  }
 },
 "nbformat": 4,
 "nbformat_minor": 2
}
