{
 "cells": [
  {
   "cell_type": "code",
   "execution_count": 7,
   "metadata": {
    "collapsed": true
   },
   "outputs": [],
   "source": [
    "import pandas as pd\n",
    "import numpy as np\n",
    "import warnings\n",
    "warnings.filterwarnings('ignore')\n",
    "%matplotlib inline\n",
    "\n",
    "from sklearn.ensemble import RandomForestClassifier\n",
    "from sklearn.metrics import accuracy_score\n",
    "from sklearn.preprocessing import MinMaxScaler"
   ]
  },
  {
   "cell_type": "code",
   "execution_count": 8,
   "metadata": {
    "collapsed": true
   },
   "outputs": [],
   "source": [
    "def get_train_valid(data, add_matches_df):\n",
    "    \n",
    "    \n",
    "    data.drop(['r_five_players_id', 'd_five_players_id'], 1, inplace=True)\n",
    "    data.drop('r_org', 1, inplace=True)\n",
    "    data.drop('d_org', 1, inplace=True)\n",
    "    data.drop('duration', 1, inplace=True)\n",
    "    \n",
    "\n",
    "    add_matches_df.drop(['r_five_players_id', 'd_five_players_id'], 1, inplace=True)\n",
    "    add_matches_df.drop('r_org', 1, inplace=True)\n",
    "    add_matches_df.drop('d_org', 1, inplace=True)\n",
    "    add_matches_df.drop('duration', 1, inplace=True)\n",
    "    \n",
    "    \n",
    "    columns = []\n",
    "    columns.extend([f'r_{i}_player_id' for i in range(1, 6)])\n",
    "    columns.extend([f'd_{i}_player_id' for i in range(1, 6)])\n",
    "    data.drop(columns, 1, inplace=True)\n",
    "    \n",
    "    \n",
    "    add_matches_df.drop(columns, 1, inplace=True)\n",
    "    heroes_unique_values = sorted(list(set(list(data[[f'r_{i}' for i in range(1, 6)]].values.ravel()) + list(data[[f'd_{i}' for i in range(1, 6)]].values.ravel()))))\n",
    "    dummy_heroes_column_names = [f'hero_{i}' for i in heroes_unique_values]\n",
    "    dummy_heroes_shape = (data.shape[0], len(dummy_heroes_column_names))\n",
    "    dummy_heroes = pd.DataFrame(np.zeros(dummy_heroes_shape), columns=dummy_heroes_column_names).astype(\"int8\")\n",
    "\n",
    "    for feature in [f'r_{i}' for i in range(1, 6)]:\n",
    "        encoded_feature = pd.get_dummies(data[feature], prefix=\"hero\")\n",
    "        dummy_heroes[encoded_feature.columns] += encoded_feature\n",
    "\n",
    "    for feature in [f'd_{i}' for i in range(1, 6)]:\n",
    "        encoded_feature = pd.get_dummies(data[feature], prefix=\"hero\")\n",
    "        dummy_heroes[encoded_feature.columns] -= encoded_feature\n",
    "    data = pd.concat([data, dummy_heroes], axis=1)\n",
    "    data.drop([f'r_{i}' for i in range(1, 6)], 1, inplace=True)\n",
    "    data.drop([f'd_{i}' for i in range(1, 6)], 1, inplace=True)\n",
    "    heroes_columns = encoded_feature.columns\n",
    "\n",
    "\n",
    "    dummy_heroes_shape = (add_matches_df.shape[0], len(dummy_heroes_column_names))\n",
    "    dummy_heroes = pd.DataFrame(np.zeros(dummy_heroes_shape), columns=dummy_heroes_column_names).astype(\"int8\")\n",
    "    for feature in [f'r_{i}' for i in range(1, 6)]:\n",
    "        encoded_feature = pd.get_dummies(add_matches_df[feature], prefix=\"hero\")\n",
    "        dummy_heroes[encoded_feature.columns] += encoded_feature\n",
    "\n",
    "    for feature in [f'd_{i}' for i in range(1, 6)]:\n",
    "        encoded_feature = pd.get_dummies(add_matches_df[feature], prefix=\"hero\")\n",
    "        dummy_heroes[encoded_feature.columns] -= encoded_feature\n",
    "    add_matches_df = pd.concat([add_matches_df, dummy_heroes], axis=1)\n",
    "    add_matches_df.drop([f'r_{i}' for i in range(1, 6)], 1, inplace=True)\n",
    "    add_matches_df.drop([f'd_{i}' for i in range(1, 6)], 1, inplace=True)\n",
    "    \n",
    "    \n",
    "    data['r_win'] = data['r_win'].astype('int8')\n",
    "    add_matches_df['r_win'] = add_matches_df['r_win'].astype('int8')\n",
    "    \n",
    "    data.drop(encoded_feature.columns, 1, inplace=True)\n",
    "    add_matches_df.drop(encoded_feature.columns, 1, inplace=True)\n",
    "    \n",
    "    winrate_columns = [col for col in data.columns.values if 'winrate' in col.split('_')]\n",
    "    columns_to_not_scale = list(heroes_columns.values) + winrate_columns + ['r_win']\n",
    "    columns_to_scale = list(set(data.columns) - set(columns_to_not_scale))\n",
    "    \n",
    "    scaler = MinMaxScaler()\n",
    "    scaled_columns_data = scaler.fit_transform(data[columns_to_scale])\n",
    "    scaled_columns_add_matches_df = scaler.transform(add_matches_df[columns_to_scale])\n",
    "    for i, col in enumerate(columns_to_scale):\n",
    "        data[col] = scaled_columns_data[:, i]\n",
    "        add_matches_df[col] = scaled_columns_add_matches_df[:, i]\n",
    "        \n",
    "        \n",
    "    x_train, y_train = data.drop('r_win', 1), data['r_win'].values\n",
    "    x_valid, y_valid = add_matches_df.drop('r_win', 1), add_matches_df['r_win'].values\n",
    "    \n",
    "    return x_train, y_train, x_valid, y_valid"
   ]
  },
  {
   "cell_type": "code",
   "execution_count": 9,
   "metadata": {
    "collapsed": true
   },
   "outputs": [],
   "source": [
    "train = pd.read_csv('train_df_five_man_more_30_games.csv')\n",
    "valid = pd.read_csv('valid_df_five_man_more_30_games.csv')\n",
    "x_train, y_train, x_valid, y_valid = get_train_valid(train, valid)"
   ]
  },
  {
   "cell_type": "code",
   "execution_count": 10,
   "metadata": {},
   "outputs": [
    {
     "data": {
      "text/plain": [
       "0.77952755905511806"
      ]
     },
     "execution_count": 10,
     "metadata": {},
     "output_type": "execute_result"
    }
   ],
   "source": [
    "forest = RandomForestClassifier(n_estimators=400, n_jobs=-1, random_state=17, max_depth=8, max_features='sqrt')\n",
    "forest.fit(x_train, y_train)\n",
    "accuracy_score(y_valid, forest.predict(x_valid))"
   ]
  },
  {
   "cell_type": "code",
   "execution_count": null,
   "metadata": {
    "collapsed": true
   },
   "outputs": [],
   "source": []
  },
  {
   "cell_type": "code",
   "execution_count": null,
   "metadata": {
    "collapsed": true
   },
   "outputs": [],
   "source": []
  },
  {
   "cell_type": "code",
   "execution_count": null,
   "metadata": {
    "collapsed": true
   },
   "outputs": [],
   "source": []
  },
  {
   "cell_type": "code",
   "execution_count": null,
   "metadata": {
    "collapsed": true
   },
   "outputs": [],
   "source": []
  },
  {
   "cell_type": "code",
   "execution_count": null,
   "metadata": {
    "collapsed": true
   },
   "outputs": [],
   "source": []
  },
  {
   "cell_type": "code",
   "execution_count": null,
   "metadata": {
    "collapsed": true
   },
   "outputs": [],
   "source": []
  },
  {
   "cell_type": "code",
   "execution_count": null,
   "metadata": {
    "collapsed": true
   },
   "outputs": [],
   "source": []
  },
  {
   "cell_type": "code",
   "execution_count": null,
   "metadata": {
    "collapsed": true
   },
   "outputs": [],
   "source": []
  },
  {
   "cell_type": "code",
   "execution_count": null,
   "metadata": {
    "collapsed": true
   },
   "outputs": [],
   "source": []
  },
  {
   "cell_type": "code",
   "execution_count": null,
   "metadata": {
    "collapsed": true
   },
   "outputs": [],
   "source": []
  },
  {
   "cell_type": "code",
   "execution_count": null,
   "metadata": {
    "collapsed": true
   },
   "outputs": [],
   "source": []
  },
  {
   "cell_type": "code",
   "execution_count": null,
   "metadata": {
    "collapsed": true
   },
   "outputs": [],
   "source": []
  },
  {
   "cell_type": "code",
   "execution_count": null,
   "metadata": {
    "collapsed": true
   },
   "outputs": [],
   "source": []
  },
  {
   "cell_type": "code",
   "execution_count": null,
   "metadata": {
    "collapsed": true
   },
   "outputs": [],
   "source": []
  },
  {
   "cell_type": "code",
   "execution_count": null,
   "metadata": {
    "collapsed": true
   },
   "outputs": [],
   "source": []
  },
  {
   "cell_type": "code",
   "execution_count": null,
   "metadata": {
    "collapsed": true
   },
   "outputs": [],
   "source": []
  },
  {
   "cell_type": "code",
   "execution_count": null,
   "metadata": {
    "collapsed": true
   },
   "outputs": [],
   "source": []
  },
  {
   "cell_type": "code",
   "execution_count": null,
   "metadata": {
    "collapsed": true
   },
   "outputs": [],
   "source": []
  }
 ],
 "metadata": {
  "kernelspec": {
   "display_name": "Python 3",
   "language": "python",
   "name": "python3"
  },
  "language_info": {
   "codemirror_mode": {
    "name": "ipython",
    "version": 3
   },
   "file_extension": ".py",
   "mimetype": "text/x-python",
   "name": "python",
   "nbconvert_exporter": "python",
   "pygments_lexer": "ipython3",
   "version": "3.6.1"
  }
 },
 "nbformat": 4,
 "nbformat_minor": 2
}
